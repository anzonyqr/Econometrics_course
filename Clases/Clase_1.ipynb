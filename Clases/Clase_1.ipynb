{
 "cells": [
  {
   "cell_type": "code",
   "execution_count": 1,
   "metadata": {},
   "outputs": [],
   "source": [
    "import numpy as np\n",
    "import pandas as pd\n",
    "import scipy.stats as st\n",
    "import matplotlib.pyplot as plt\n",
    "from scipy.stats import norm"
   ]
  },
  {
   "cell_type": "markdown",
   "metadata": {},
   "source": [
    "# Sample Distributions"
   ]
  },
  {
   "cell_type": "markdown",
   "metadata": {},
   "source": [
    "There is a big difference between a estimator and a parameter. The parameters come from population while estimators come from a sample. \n",
    "\n",
    "### Simple Random Sample\n",
    "Given a population $f(x)$ with mean $\\mu$ and variance $\\sigma^2$, we have a random sample of size $n$ that is a set of $n$ random variables $X_1, X_2, ... , X_n$ such as:\n",
    "1. They are independent\n",
    "2. Each random variable has a similar distribution $f(x)$"
   ]
  },
  {
   "cell_type": "markdown",
   "metadata": {},
   "source": [
    "### Random Variable\n",
    "It’s a function which performs the mapping of the outcomes of a random process to a numeric value. It has a distribution and this distribution dependes on $\\mu$ and $\\sigma$.\n",
    "\n",
    "### Probability Density Function\n",
    "$$f(x) = \\frac{e^{-(x - \\mu)^{2}/(2\\sigma^{2}) }} {\\sigma\\sqrt{2\\pi}}$$\n",
    "\n",
    "### Cumulative Distribution Function\n",
    "$$F(x) = \\int_{-\\infty}^{x} \\frac{e^{-(x - \\mu)^{2}/(2\\sigma^{2}) }} {\\sigma\\sqrt{2\\pi}}$$"
   ]
  },
  {
   "cell_type": "markdown",
   "metadata": {},
   "source": [
    "### CDF of the standard normal\n",
    "$$\\Phi(x)=P(Z \\leq x)= \\frac{1}{\\sqrt{2 \\pi}}  \\int_{-\\infty}^{x}\\exp\\left\\{-\\frac{u^2}{2}\\right\\} du.$$"
   ]
  },
  {
   "cell_type": "markdown",
   "metadata": {},
   "source": [
    "If **$X$** is a normal random variable with mean $\\mu$ and variance $\\sigma^2$, i.e, $X∼N(\\mu,\\sigma^2)$, then\n",
    "\n",
    "$$f_X(x)=\\frac{1}{ \\sigma\\sqrt{2 \\pi}} \\exp\\left\\{-\\frac{(x-\\mu)^2}{2\\sigma^2}\\right\\}$$\n",
    "$$F_X(x)=P(X \\leq x)=\\Phi\\left(\\frac{x-\\mu}{\\sigma}\\right)$$\n",
    "$$P(a < X \\leq b)= \\Phi\\left(\\frac{b-\\mu}{\\sigma}\\right)-\\Phi\\left(\\frac{a-\\mu}{\\sigma}\\right)$$"
   ]
  },
  {
   "cell_type": "markdown",
   "metadata": {},
   "source": [
    "### Joint Probability Distribution\n",
    "Two random variables $X$ and $Y$ are jointly continuous if there exists a nonnegative function $f_{XY}:\\mathbb{R}^2 \\rightarrow \\mathbb{R}$, such that, for any set $A\\in \\mathbb{R}^2$, we have\n",
    "\n",
    "$$\n",
    "\\begin{align}\\label{eq:double-int}\n",
    "  P\\big((X,Y) \\in A\\big) =\\iint \\limits_A f_{XY}(x,y)dxdy \\hspace{30pt}\n",
    "\\end{align}\n",
    "$$\n",
    "\n",
    "For iid (independent and identically distributed) random variables. \n",
    "\n",
    "$$\n",
    "\\begin{align}%\\label{}\n",
    "\\nonumber  F_{X_1, X_2, ..., X_n}(x_1, x_2, ..., x_n) & = F_{X_1}(x_1)F_{X_2}(x_2) \\cdots F_{X_n}(x_n)\\\\\n",
    "&= F_{X}^n\n",
    "\\end{align}\n",
    "$$"
   ]
  },
  {
   "cell_type": "markdown",
   "metadata": {},
   "source": [
    "### Sample Mean\n",
    "\n",
    "The sample mean  $x$  is a random variable: it varies from sample to sample in a way that cannot be predicted with certainty. We will write  $\\bar{X}$  when the sample mean is thought of as a random variable, and write  $x$  for the values that it takes. The random variable  $\\bar{X}$  has a mean, denoted  $\\mu_\\bar{X}$ , and a standard deviation, denoted  $\\sigma_\\bar{X}$.\n",
    "\n",
    "$$\n",
    "\\begin{align*} μ_{\\bar{X}} &=\\sum \\bar{x} P(\\bar{x}) \n",
    "\\end{align*}\n",
    "$$\n",
    "\n",
    "Suppose random samples of size  $n$  are drawn from a population with mean  $\\mu$  and standard deviation  $\\sigma$ . The mean  $\\mu_\\bar{X}$  and standard deviation  $\\sigma_\\bar{X}$  of the sample mean $\\bar{X}$  satisfy\n",
    "\n",
    "$$\n",
    "E(\\bar{X}) =μ \\label{average}\n",
    "$$\n",
    "\n",
    "$$\n",
    "Var(\\bar{X}) =\\dfrac{σ^2}{n} \\label{std}\n",
    "$$"
   ]
  },
  {
   "cell_type": "markdown",
   "metadata": {},
   "source": [
    "## Example"
   ]
  },
  {
   "cell_type": "code",
   "execution_count": 2,
   "metadata": {},
   "outputs": [],
   "source": [
    "population = np.array([ 3 , 4 , 7, 9 , 12 ])"
   ]
  },
  {
   "cell_type": "markdown",
   "metadata": {},
   "source": [
    "#### Statistics from population"
   ]
  },
  {
   "cell_type": "code",
   "execution_count": 4,
   "metadata": {},
   "outputs": [
    {
     "name": "stdout",
     "output_type": "stream",
     "text": [
      "7.0\n",
      "10.8\n"
     ]
    }
   ],
   "source": [
    "mu_pop = np.mean(population)\n",
    "var_pop = np.var(population)\n",
    "print(mu_pop)\n",
    "print(var_pop)"
   ]
  },
  {
   "cell_type": "markdown",
   "metadata": {},
   "source": [
    "### Generating No Replacement Samples"
   ]
  },
  {
   "cell_type": "code",
   "execution_count": 5,
   "metadata": {},
   "outputs": [],
   "source": [
    "samples_no_replacement = []\n",
    "index_sample = 0 \n",
    "for i in population:\n",
    "    for j in population:\n",
    "        if i != j:\n",
    "            samples_no_replacement.append( (i , j) )"
   ]
  },
  {
   "cell_type": "code",
   "execution_count": 6,
   "metadata": {},
   "outputs": [
    {
     "data": {
      "text/plain": [
       "[[(3, 4), (3, 7), (3, 9), (3, 12)],\n",
       " [(4, 3), (4, 7), (4, 9), (4, 12)],\n",
       " [(7, 3), (7, 4), (7, 9), (7, 12)],\n",
       " [(9, 3), (9, 4), (9, 7), (9, 12)],\n",
       " [(12, 3), (12, 4), (12, 7), (12, 9)],\n",
       " []]"
      ]
     },
     "execution_count": 6,
     "metadata": {},
     "output_type": "execute_result"
    }
   ],
   "source": [
    "matrix_list = []\n",
    "\n",
    "for lit_list in range(0, 22, 4):\n",
    "    matrix_list.append( samples_no_replacement[lit_list:lit_list+4] )\n",
    "\n",
    "matrix_list"
   ]
  },
  {
   "cell_type": "code",
   "execution_count": 7,
   "metadata": {},
   "outputs": [],
   "source": [
    "matrix_samples = np.array(samples_no_replacement).reshape( 20 , 2)"
   ]
  },
  {
   "cell_type": "code",
   "execution_count": 8,
   "metadata": {},
   "outputs": [],
   "source": [
    "means_samples = np.mean( matrix_samples , axis = 1 )"
   ]
  },
  {
   "cell_type": "code",
   "execution_count": 9,
   "metadata": {},
   "outputs": [],
   "source": [
    "means = np.unique( means_samples , return_counts = True )[0]  \n",
    "probability = np.unique( means_samples , return_counts = True )[1]  / means_samples.size"
   ]
  },
  {
   "cell_type": "code",
   "execution_count": 10,
   "metadata": {},
   "outputs": [],
   "source": [
    "histogram_means = pd.DataFrame({ 'means' : means , 'f(x)' : probability  })"
   ]
  },
  {
   "cell_type": "code",
   "execution_count": 11,
   "metadata": {},
   "outputs": [
    {
     "data": {
      "text/html": [
       "<div>\n",
       "<style scoped>\n",
       "    .dataframe tbody tr th:only-of-type {\n",
       "        vertical-align: middle;\n",
       "    }\n",
       "\n",
       "    .dataframe tbody tr th {\n",
       "        vertical-align: top;\n",
       "    }\n",
       "\n",
       "    .dataframe thead th {\n",
       "        text-align: right;\n",
       "    }\n",
       "</style>\n",
       "<table border=\"1\" class=\"dataframe\">\n",
       "  <thead>\n",
       "    <tr style=\"text-align: right;\">\n",
       "      <th></th>\n",
       "      <th>means</th>\n",
       "      <th>f(x)</th>\n",
       "    </tr>\n",
       "  </thead>\n",
       "  <tbody>\n",
       "    <tr>\n",
       "      <th>0</th>\n",
       "      <td>3.5</td>\n",
       "      <td>0.1</td>\n",
       "    </tr>\n",
       "    <tr>\n",
       "      <th>1</th>\n",
       "      <td>5.0</td>\n",
       "      <td>0.1</td>\n",
       "    </tr>\n",
       "    <tr>\n",
       "      <th>2</th>\n",
       "      <td>5.5</td>\n",
       "      <td>0.1</td>\n",
       "    </tr>\n",
       "    <tr>\n",
       "      <th>3</th>\n",
       "      <td>6.0</td>\n",
       "      <td>0.1</td>\n",
       "    </tr>\n",
       "    <tr>\n",
       "      <th>4</th>\n",
       "      <td>6.5</td>\n",
       "      <td>0.1</td>\n",
       "    </tr>\n",
       "    <tr>\n",
       "      <th>5</th>\n",
       "      <td>7.5</td>\n",
       "      <td>0.1</td>\n",
       "    </tr>\n",
       "    <tr>\n",
       "      <th>6</th>\n",
       "      <td>8.0</td>\n",
       "      <td>0.2</td>\n",
       "    </tr>\n",
       "    <tr>\n",
       "      <th>7</th>\n",
       "      <td>9.5</td>\n",
       "      <td>0.1</td>\n",
       "    </tr>\n",
       "    <tr>\n",
       "      <th>8</th>\n",
       "      <td>10.5</td>\n",
       "      <td>0.1</td>\n",
       "    </tr>\n",
       "  </tbody>\n",
       "</table>\n",
       "</div>"
      ],
      "text/plain": [
       "   means  f(x)\n",
       "0    3.5   0.1\n",
       "1    5.0   0.1\n",
       "2    5.5   0.1\n",
       "3    6.0   0.1\n",
       "4    6.5   0.1\n",
       "5    7.5   0.1\n",
       "6    8.0   0.2\n",
       "7    9.5   0.1\n",
       "8   10.5   0.1"
      ]
     },
     "execution_count": 11,
     "metadata": {},
     "output_type": "execute_result"
    }
   ],
   "source": [
    "histogram_means"
   ]
  },
  {
   "cell_type": "code",
   "execution_count": 12,
   "metadata": {},
   "outputs": [],
   "source": [
    "mean_of_means = means.reshape( 1, 9 ) @ probability.reshape( 9 , 1 )"
   ]
  },
  {
   "cell_type": "code",
   "execution_count": 13,
   "metadata": {},
   "outputs": [],
   "source": [
    "var_of_means = probability.reshape( 1 , 9 ) @ (means.reshape(  9 , 1 )**2 ) - mean_of_means**2"
   ]
  },
  {
   "cell_type": "code",
   "execution_count": 14,
   "metadata": {},
   "outputs": [
    {
     "data": {
      "text/plain": [
       "array([[4.05]])"
      ]
     },
     "execution_count": 14,
     "metadata": {},
     "output_type": "execute_result"
    }
   ],
   "source": [
    "var_of_means"
   ]
  },
  {
   "cell_type": "code",
   "execution_count": 15,
   "metadata": {},
   "outputs": [
    {
     "data": {
      "text/plain": [
       "4.050000000000001"
      ]
     },
     "execution_count": 15,
     "metadata": {},
     "output_type": "execute_result"
    }
   ],
   "source": [
    "var_pop * ((5 - 2)/ (5-1)) / 2"
   ]
  },
  {
   "cell_type": "markdown",
   "metadata": {},
   "source": [
    "### Generating Samples With Replacement "
   ]
  },
  {
   "cell_type": "code",
   "execution_count": 111,
   "metadata": {},
   "outputs": [],
   "source": [
    "samples_replacement = []\n",
    "index_sample = 0 \n",
    "for i in population:\n",
    "    for j in population:\n",
    "            samples_replacement.append( (i , j) )"
   ]
  },
  {
   "cell_type": "code",
   "execution_count": 116,
   "metadata": {},
   "outputs": [
    {
     "data": {
      "text/plain": [
       "[[(3, 3), (3, 4), (3, 7), (3, 9), (3, 12)],\n",
       " [(4, 3), (4, 4), (4, 7), (4, 9), (4, 12)],\n",
       " [(7, 3), (7, 4), (7, 7), (7, 9), (7, 12)],\n",
       " [(9, 3), (9, 4), (9, 7), (9, 9), (9, 12)],\n",
       " [(12, 3), (12, 4), (12, 7), (12, 9), (12, 12)]]"
      ]
     },
     "execution_count": 116,
     "metadata": {},
     "output_type": "execute_result"
    }
   ],
   "source": [
    "matrix_list = []\n",
    "\n",
    "for lit_list in range(0, 25, 5):\n",
    "    matrix_list.append( samples_replacement[lit_list:lit_list+5] )\n",
    "\n",
    "matrix_list"
   ]
  },
  {
   "cell_type": "code",
   "execution_count": 118,
   "metadata": {},
   "outputs": [],
   "source": [
    "matrix_samples = np.array(samples_replacement).reshape( 25 , 2)"
   ]
  },
  {
   "cell_type": "code",
   "execution_count": 120,
   "metadata": {},
   "outputs": [],
   "source": [
    "means_samples = np.mean( matrix_samples , axis = 1 )"
   ]
  },
  {
   "cell_type": "code",
   "execution_count": 121,
   "metadata": {},
   "outputs": [],
   "source": [
    "means = np.unique( means_samples , return_counts = True )[0]  \n",
    "probability = np.unique( means_samples , return_counts = True )[1]  / means_samples.size"
   ]
  },
  {
   "cell_type": "code",
   "execution_count": 122,
   "metadata": {},
   "outputs": [],
   "source": [
    "histogram_means = pd.DataFrame({ 'means' : means , 'f(x)' : probability  })"
   ]
  },
  {
   "cell_type": "code",
   "execution_count": 123,
   "metadata": {},
   "outputs": [
    {
     "data": {
      "text/html": [
       "<div>\n",
       "<style scoped>\n",
       "    .dataframe tbody tr th:only-of-type {\n",
       "        vertical-align: middle;\n",
       "    }\n",
       "\n",
       "    .dataframe tbody tr th {\n",
       "        vertical-align: top;\n",
       "    }\n",
       "\n",
       "    .dataframe thead th {\n",
       "        text-align: right;\n",
       "    }\n",
       "</style>\n",
       "<table border=\"1\" class=\"dataframe\">\n",
       "  <thead>\n",
       "    <tr style=\"text-align: right;\">\n",
       "      <th></th>\n",
       "      <th>means</th>\n",
       "      <th>f(x)</th>\n",
       "    </tr>\n",
       "  </thead>\n",
       "  <tbody>\n",
       "    <tr>\n",
       "      <th>0</th>\n",
       "      <td>3.0</td>\n",
       "      <td>0.04</td>\n",
       "    </tr>\n",
       "    <tr>\n",
       "      <th>1</th>\n",
       "      <td>3.5</td>\n",
       "      <td>0.08</td>\n",
       "    </tr>\n",
       "    <tr>\n",
       "      <th>2</th>\n",
       "      <td>4.0</td>\n",
       "      <td>0.04</td>\n",
       "    </tr>\n",
       "    <tr>\n",
       "      <th>3</th>\n",
       "      <td>5.0</td>\n",
       "      <td>0.08</td>\n",
       "    </tr>\n",
       "    <tr>\n",
       "      <th>4</th>\n",
       "      <td>5.5</td>\n",
       "      <td>0.08</td>\n",
       "    </tr>\n",
       "    <tr>\n",
       "      <th>5</th>\n",
       "      <td>6.0</td>\n",
       "      <td>0.08</td>\n",
       "    </tr>\n",
       "    <tr>\n",
       "      <th>6</th>\n",
       "      <td>6.5</td>\n",
       "      <td>0.08</td>\n",
       "    </tr>\n",
       "    <tr>\n",
       "      <th>7</th>\n",
       "      <td>7.0</td>\n",
       "      <td>0.04</td>\n",
       "    </tr>\n",
       "    <tr>\n",
       "      <th>8</th>\n",
       "      <td>7.5</td>\n",
       "      <td>0.08</td>\n",
       "    </tr>\n",
       "    <tr>\n",
       "      <th>9</th>\n",
       "      <td>8.0</td>\n",
       "      <td>0.16</td>\n",
       "    </tr>\n",
       "    <tr>\n",
       "      <th>10</th>\n",
       "      <td>9.0</td>\n",
       "      <td>0.04</td>\n",
       "    </tr>\n",
       "    <tr>\n",
       "      <th>11</th>\n",
       "      <td>9.5</td>\n",
       "      <td>0.08</td>\n",
       "    </tr>\n",
       "    <tr>\n",
       "      <th>12</th>\n",
       "      <td>10.5</td>\n",
       "      <td>0.08</td>\n",
       "    </tr>\n",
       "    <tr>\n",
       "      <th>13</th>\n",
       "      <td>12.0</td>\n",
       "      <td>0.04</td>\n",
       "    </tr>\n",
       "  </tbody>\n",
       "</table>\n",
       "</div>"
      ],
      "text/plain": [
       "    means  f(x)\n",
       "0     3.0  0.04\n",
       "1     3.5  0.08\n",
       "2     4.0  0.04\n",
       "3     5.0  0.08\n",
       "4     5.5  0.08\n",
       "5     6.0  0.08\n",
       "6     6.5  0.08\n",
       "7     7.0  0.04\n",
       "8     7.5  0.08\n",
       "9     8.0  0.16\n",
       "10    9.0  0.04\n",
       "11    9.5  0.08\n",
       "12   10.5  0.08\n",
       "13   12.0  0.04"
      ]
     },
     "execution_count": 123,
     "metadata": {},
     "output_type": "execute_result"
    }
   ],
   "source": [
    "histogram_means"
   ]
  },
  {
   "cell_type": "code",
   "execution_count": 127,
   "metadata": {},
   "outputs": [],
   "source": [
    "mean_of_means = means.reshape( 1, 14 ) @ probability.reshape( 14 , 1 )"
   ]
  },
  {
   "cell_type": "code",
   "execution_count": 128,
   "metadata": {},
   "outputs": [],
   "source": [
    "var_of_means = probability.reshape( 1 , 14 ) @ (means.reshape(  14 , 1 )**2 ) - mean_of_means**2"
   ]
  },
  {
   "cell_type": "code",
   "execution_count": 129,
   "metadata": {},
   "outputs": [
    {
     "data": {
      "text/plain": [
       "array([[5.4]])"
      ]
     },
     "execution_count": 129,
     "metadata": {},
     "output_type": "execute_result"
    }
   ],
   "source": [
    "var_of_means"
   ]
  },
  {
   "cell_type": "code",
   "execution_count": 130,
   "metadata": {},
   "outputs": [
    {
     "data": {
      "text/plain": [
       "array([[7.]])"
      ]
     },
     "execution_count": 130,
     "metadata": {},
     "output_type": "execute_result"
    }
   ],
   "source": [
    "mean_of_means"
   ]
  },
  {
   "cell_type": "code",
   "execution_count": 131,
   "metadata": {},
   "outputs": [
    {
     "data": {
      "text/plain": [
       "5.4"
      ]
     },
     "execution_count": 131,
     "metadata": {},
     "output_type": "execute_result"
    }
   ],
   "source": [
    "var_pop  / 2"
   ]
  },
  {
   "cell_type": "markdown",
   "metadata": {},
   "source": [
    "### Probability of $\\bar{X}$ to be between 5 and 8"
   ]
  },
  {
   "cell_type": "code",
   "execution_count": 132,
   "metadata": {},
   "outputs": [],
   "source": [
    "n = 36"
   ]
  },
  {
   "cell_type": "code",
   "execution_count": 135,
   "metadata": {},
   "outputs": [],
   "source": [
    "mean_samples = mu_pop "
   ]
  },
  {
   "cell_type": "code",
   "execution_count": 139,
   "metadata": {},
   "outputs": [],
   "source": [
    "var_samples = var_pop / 36"
   ]
  },
  {
   "cell_type": "markdown",
   "metadata": {},
   "source": [
    "media should be less than 8 and mayor 5"
   ]
  },
  {
   "cell_type": "code",
   "execution_count": 143,
   "metadata": {},
   "outputs": [],
   "source": [
    "z_max = (8 - mean_samples)/ var_samples**0.5"
   ]
  },
  {
   "cell_type": "code",
   "execution_count": 144,
   "metadata": {},
   "outputs": [],
   "source": [
    "z_min = (5 - mean_samples)/ var_samples**0.5"
   ]
  },
  {
   "cell_type": "code",
   "execution_count": 147,
   "metadata": {},
   "outputs": [
    {
     "data": {
      "text/plain": [
       "0.9659250577526578"
      ]
     },
     "execution_count": 147,
     "metadata": {},
     "output_type": "execute_result"
    }
   ],
   "source": [
    "st.norm.cdf( z_max ) - st.norm.cdf( z_min )"
   ]
  },
  {
   "cell_type": "code",
   "execution_count": 162,
   "metadata": {},
   "outputs": [],
   "source": [
    "def draw_z_score(x, cond, mu, sigma, title):\n",
    "    y = norm.pdf(x, mu, sigma)\n",
    "    z = x[cond]\n",
    "    plt.figure( figsize = ( 5 , 5 ) , dpi = 100 )\n",
    "    plt.plot(x, y)\n",
    "    plt.fill_between(z, 0, norm.pdf(z, mu, sigma))\n",
    "    plt.title(title)\n",
    "    plt.show()"
   ]
  },
  {
   "cell_type": "code",
   "execution_count": 165,
   "metadata": {},
   "outputs": [
    {
     "data": {
      "image/png": "[encoded data removed]",
      "text/plain": [
       "<Figure size 500x500 with 1 Axes>"
      ]
     },
     "metadata": {
      "needs_background": "light"
     },
     "output_type": "display_data"
    }
   ],
   "source": [
    "x = np.arange(-5,5,0.001)\n",
    "draw_z_score(x, ( z_min < x) & (x < z_max ), 0, 1, f'{round(z_min, 2)} < z < { round(z_max, 2)}')"
   ]
  }
 ],
 "metadata": {
  "hide_input": false,
  "kernelspec": {
   "display_name": "Python 3",
   "language": "python",
   "name": "python3"
  },
  "language_info": {
   "codemirror_mode": {
    "name": "ipython",
    "version": 3
   },
   "file_extension": ".py",
   "mimetype": "text/x-python",
   "name": "python",
   "nbconvert_exporter": "python",
   "pygments_lexer": "ipython3",
   "version": "3.8.5"
  }
 },
 "nbformat": 4,
 "nbformat_minor": 4
}
